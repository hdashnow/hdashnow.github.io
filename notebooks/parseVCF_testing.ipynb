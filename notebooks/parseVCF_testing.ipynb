{
 "cells": [
  {
   "cell_type": "markdown",
   "metadata": {},
   "source": [
    "## Circular permutations"
   ]
  },
  {
   "cell_type": "code",
   "execution_count": 1,
   "metadata": {
    "collapsed": false
   },
   "outputs": [],
   "source": [
    "def circular_permuted1(seq):\n",
    "    all_possible = []\n",
    "    for i in range(len(seq)):\n",
    "        permuted_seq = (seq + seq)[i:i+len(seq)]\n",
    "        all_possible.append(permuted_seq)\n",
    "    return(all_possible)"
   ]
  },
  {
   "cell_type": "code",
   "execution_count": 2,
   "metadata": {
    "collapsed": false
   },
   "outputs": [],
   "source": [
    "from collections import deque\n",
    "\n",
    "def circular_permuted2(seq):\n",
    "    all_possible = []\n",
    "    d = deque(a)\n",
    "    for i in range(len(a)):\n",
    "        d.rotate()\n",
    "        all_possible.append(''.join(list(d)))\n",
    "    return(all_possible)"
   ]
  },
  {
   "cell_type": "code",
   "execution_count": 3,
   "metadata": {
    "collapsed": false
   },
   "outputs": [],
   "source": [
    "import toolz\n",
    "\n",
    "def circular_permuted3(seq):\n",
    "    all_possible = []\n",
    "    for permuted_seq in toolz.sliding_window(len(seq), seq+seq[:-1]):\n",
    "        all_possible.append(''.join(permuted_seq))\n",
    "    return(all_possible)"
   ]
  },
  {
   "cell_type": "code",
   "execution_count": 4,
   "metadata": {
    "collapsed": false
   },
   "outputs": [],
   "source": [
    "def circular_permuted4(seq):\n",
    "    n = len(seq)\n",
    "    return([''.join([seq[i - j] for i in range(n)]) for j in range(n)])"
   ]
  },
  {
   "cell_type": "code",
   "execution_count": 5,
   "metadata": {
    "collapsed": true
   },
   "outputs": [],
   "source": [
    "def circular_permuted5(seq):\n",
    "    n = len(seq)\n",
    "    return([(seq + seq)[i:i+len(seq)] for i in range(n)])"
   ]
  },
  {
   "cell_type": "code",
   "execution_count": 6,
   "metadata": {
    "collapsed": false
   },
   "outputs": [],
   "source": [
    "def circular_permuted6(x):\n",
    "    return([x[i:]+x[:i] for i in range(len(x))])"
   ]
  },
  {
   "cell_type": "code",
   "execution_count": 7,
   "metadata": {
    "collapsed": true
   },
   "outputs": [],
   "source": [
    "a = \"ATCG\""
   ]
  },
  {
   "cell_type": "code",
   "execution_count": 8,
   "metadata": {
    "collapsed": false
   },
   "outputs": [
    {
     "name": "stdout",
     "output_type": "stream",
     "text": [
      "100000 loops, best of 10: 2.09 µs per loop\n"
     ]
    }
   ],
   "source": [
    "%%timeit -r10\n",
    "circular_permuted1(a)"
   ]
  },
  {
   "cell_type": "code",
   "execution_count": 9,
   "metadata": {
    "collapsed": false
   },
   "outputs": [
    {
     "name": "stdout",
     "output_type": "stream",
     "text": [
      "100000 loops, best of 10: 3.62 µs per loop\n"
     ]
    }
   ],
   "source": [
    "%%timeit -r10\n",
    "circular_permuted2(a)"
   ]
  },
  {
   "cell_type": "code",
   "execution_count": 10,
   "metadata": {
    "collapsed": false
   },
   "outputs": [
    {
     "name": "stdout",
     "output_type": "stream",
     "text": [
      "The slowest run took 4.22 times longer than the fastest. This could mean that an intermediate result is being cached \n",
      "100000 loops, best of 10: 3.65 µs per loop\n"
     ]
    }
   ],
   "source": [
    "%%timeit -r10\n",
    "circular_permuted3(a)"
   ]
  },
  {
   "cell_type": "code",
   "execution_count": 11,
   "metadata": {
    "collapsed": false
   },
   "outputs": [
    {
     "name": "stdout",
     "output_type": "stream",
     "text": [
      "100000 loops, best of 10: 5.8 µs per loop\n"
     ]
    }
   ],
   "source": [
    "%%timeit -r10\n",
    "circular_permuted4(a)"
   ]
  },
  {
   "cell_type": "code",
   "execution_count": 12,
   "metadata": {
    "collapsed": false
   },
   "outputs": [
    {
     "name": "stdout",
     "output_type": "stream",
     "text": [
      "100000 loops, best of 10: 2.01 µs per loop\n"
     ]
    }
   ],
   "source": [
    "%%timeit -r10\n",
    "circular_permuted5(a)"
   ]
  },
  {
   "cell_type": "code",
   "execution_count": 13,
   "metadata": {
    "collapsed": false
   },
   "outputs": [
    {
     "name": "stdout",
     "output_type": "stream",
     "text": [
      "1000000 loops, best of 10: 1.87 µs per loop\n"
     ]
    }
   ],
   "source": [
    "%%timeit -r10\n",
    "circular_permuted6(a) # Winner!"
   ]
  },
  {
   "cell_type": "markdown",
   "metadata": {},
   "source": [
    "## Reverse complement"
   ]
  },
  {
   "cell_type": "code",
   "execution_count": null,
   "metadata": {
    "collapsed": true
   },
   "outputs": [],
   "source": []
  },
  {
   "cell_type": "code",
   "execution_count": null,
   "metadata": {
    "collapsed": true
   },
   "outputs": [],
   "source": []
  },
  {
   "cell_type": "code",
   "execution_count": 14,
   "metadata": {
    "collapsed": true
   },
   "outputs": [],
   "source": [
    "from Bio.Seq import Seq\n",
    "from Bio.Alphabet import generic_dna\n",
    "\n",
    "def self_and_rev_complement1(in_dna):\n",
    "    all_possible = [in_dna]\n",
    "    \n",
    "    # Get reverse complement\n",
    "    dna = Seq(in_dna, generic_dna)\n",
    "    rev_complement = str(dna.reverse_complement())\n",
    "    all_possible.append(rev_complement)\n",
    "    return(all_possible)\n",
    "\n",
    "from skbio.sequence import DNASequence\n",
    "\n",
    "def self_and_rev_complement2(in_dna):\n",
    "    all_possible = [in_dna]\n",
    "    \n",
    "    # Get reverse complement\n",
    "    dna = DNASequence(in_dna)\n",
    "    rev_complement = str(dna.reverse_complement())\n",
    "    all_possible.append(rev_complement)\n",
    "    return(all_possible)"
   ]
  },
  {
   "cell_type": "code",
   "execution_count": 15,
   "metadata": {
    "collapsed": false
   },
   "outputs": [
    {
     "name": "stdout",
     "output_type": "stream",
     "text": [
      "The slowest run took 6.29 times longer than the fastest. This could mean that an intermediate result is being cached \n",
      "100000 loops, best of 10: 5.99 µs per loop\n"
     ]
    }
   ],
   "source": [
    "%%timeit -r10\n",
    "self_and_rev_complement1(a)"
   ]
  },
  {
   "cell_type": "code",
   "execution_count": 16,
   "metadata": {
    "collapsed": false
   },
   "outputs": [
    {
     "name": "stdout",
     "output_type": "stream",
     "text": [
      "The slowest run took 4.44 times longer than the fastest. This could mean that an intermediate result is being cached \n",
      "100000 loops, best of 10: 10.7 µs per loop\n"
     ]
    }
   ],
   "source": [
    "%%timeit -r10\n",
    "self_and_rev_complement2(a)"
   ]
  },
  {
   "cell_type": "code",
   "execution_count": 17,
   "metadata": {
    "collapsed": false
   },
   "outputs": [
    {
     "data": {
      "text/plain": [
       "['ATCG', 'CGAT']"
      ]
     },
     "execution_count": 17,
     "metadata": {},
     "output_type": "execute_result"
    }
   ],
   "source": [
    "self_and_rev_complement2(a)"
   ]
  },
  {
   "cell_type": "markdown",
   "metadata": {
    "collapsed": false
   },
   "source": [
    "## Putting it together, circular permutations of the original and reverse complement"
   ]
  },
  {
   "cell_type": "code",
   "execution_count": 18,
   "metadata": {
    "collapsed": false
   },
   "outputs": [],
   "source": [
    "from Bio.Seq import Seq\n",
    "from Bio.Alphabet import generic_dna\n",
    "\n",
    "def normalise_str(in_dna):\n",
    "    \"\"\"Find all possible eqivalent STR sequences. \n",
    "    And return the first alphabetically.\n",
    "    \n",
    "    For example, TA = AT. But would return AT.\n",
    "    \"\"\"\n",
    "    all_possible = [in_dna]\n",
    "    \n",
    "    # Get reverse complement\n",
    "    dna = Seq(in_dna, generic_dna)\n",
    "    rev_complement = str(dna.reverse_complement())\n",
    "    all_possible.append(rev_complement)\n",
    "    \n",
    "    # Permute\n",
    "    for seq in [in_dna, rev_complement]:\n",
    "        for permuted_seq in circular_permuted1(seq): # Switch to faster permutation (6)\n",
    "            all_possible.append(permuted_seq)\n",
    "\n",
    "    # Sort and take the first\n",
    "    all_possible.sort()\n",
    "    return(all_possible[0])"
   ]
  },
  {
   "cell_type": "code",
   "execution_count": 19,
   "metadata": {
    "collapsed": false
   },
   "outputs": [],
   "source": [
    "from skbio.sequence import DNASequence\n",
    "\n",
    "def normalise_str2(in_dna):\n",
    "    \"\"\"Find all possible eqivalent STR sequences. \n",
    "    And return the first alphabetically.\n",
    "    \n",
    "    For example, TA = AT. But would return AT.\n",
    "    \"\"\"\n",
    "    all_possible = [in_dna]\n",
    "    \n",
    "    # Get reverse complement\n",
    "    dna = DNASequence(in_dna)\n",
    "    rev_complement = str(dna.reverse_complement())\n",
    "    all_possible.append(rev_complement)\n",
    "    \n",
    "    # Permute\n",
    "    for seq in [in_dna, rev_complement]:\n",
    "        for permuted_seq in circular_permuted1(seq): # Switch to faster permutation (6)\n",
    "            all_possible.append(permuted_seq)\n",
    "\n",
    "    # Sort and take the first\n",
    "    all_possible.sort()\n",
    "    return(all_possible[0])"
   ]
  },
  {
   "cell_type": "code",
   "execution_count": 20,
   "metadata": {
    "collapsed": false
   },
   "outputs": [
    {
     "name": "stdout",
     "output_type": "stream",
     "text": [
      "100000 loops, best of 10: 12.9 µs per loop\n"
     ]
    }
   ],
   "source": [
    "%%timeit -r10\n",
    "normalise_str(a)"
   ]
  },
  {
   "cell_type": "code",
   "execution_count": 21,
   "metadata": {
    "collapsed": false
   },
   "outputs": [
    {
     "name": "stdout",
     "output_type": "stream",
     "text": [
      "10000 loops, best of 10: 17.4 µs per loop\n"
     ]
    }
   ],
   "source": [
    "%%timeit -r10\n",
    "normalise_str2(a)"
   ]
  },
  {
   "cell_type": "code",
   "execution_count": null,
   "metadata": {
    "collapsed": true
   },
   "outputs": [],
   "source": []
  }
 ],
 "metadata": {
  "kernelspec": {
   "display_name": "Python 3",
   "language": "python",
   "name": "python3"
  },
  "language_info": {
   "codemirror_mode": {
    "name": "ipython",
    "version": 3
   },
   "file_extension": ".py",
   "mimetype": "text/x-python",
   "name": "python",
   "nbconvert_exporter": "python",
   "pygments_lexer": "ipython3",
   "version": "3.4.3"
  }
 },
 "nbformat": 4,
 "nbformat_minor": 0
}
